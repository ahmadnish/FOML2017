{
 "cells": [
  {
   "cell_type": "code",
   "execution_count": 1,
   "metadata": {
    "collapsed": true
   },
   "outputs": [],
   "source": [
    "import numpy as np\n",
    "import pandas as pd\n",
    "import seaborn as sns\n",
    "from matplotlib import pyplot as plt\n",
    "import seaborn as sns\n",
    "%matplotlib inline"
   ]
  },
  {
   "cell_type": "code",
   "execution_count": 2,
   "metadata": {
    "collapsed": true
   },
   "outputs": [],
   "source": [
    "data = pd.read_csv('Wisconsin.csv')"
   ]
  },
  {
   "cell_type": "code",
   "execution_count": 3,
   "metadata": {
    "collapsed": false
   },
   "outputs": [
    {
     "data": {
      "text/plain": [
       "(569, 32)"
      ]
     },
     "execution_count": 3,
     "metadata": {},
     "output_type": "execute_result"
    }
   ],
   "source": [
    "data.shape"
   ]
  },
  {
   "cell_type": "code",
   "execution_count": 4,
   "metadata": {
    "collapsed": false
   },
   "outputs": [],
   "source": [
    "# droping the id column since it's irrelevant\n",
    "data.drop('id', axis = 1, inplace = True)"
   ]
  },
  {
   "cell_type": "code",
   "execution_count": 5,
   "metadata": {
    "collapsed": false
   },
   "outputs": [
    {
     "data": {
      "text/plain": [
       "Index(['diagnosis', 'radius_mean', 'texture_mean', 'perimeter_mean',\n",
       "       'area_mean', 'smoothness_mean', 'compactness_mean', 'concavity_mean',\n",
       "       'concave points_mean', 'symmetry_mean', 'fractal_dimension_mean',\n",
       "       'radius_se', 'texture_se', 'perimeter_se', 'area_se', 'smoothness_se',\n",
       "       'compactness_se', 'concavity_se', 'concave points_se', 'symmetry_se',\n",
       "       'fractal_dimension_se', 'radius_worst', 'texture_worst',\n",
       "       'perimeter_worst', 'area_worst', 'smoothness_worst',\n",
       "       'compactness_worst', 'concavity_worst', 'concave points_worst',\n",
       "       'symmetry_worst', 'fractal_dimension_worst'],\n",
       "      dtype='object')"
      ]
     },
     "execution_count": 5,
     "metadata": {},
     "output_type": "execute_result"
    }
   ],
   "source": [
    "data.columns"
   ]
  },
  {
   "cell_type": "code",
   "execution_count": 6,
   "metadata": {
    "collapsed": false
   },
   "outputs": [
    {
     "data": {
      "text/html": [
       "<div>\n",
       "<table border=\"1\" class=\"dataframe\">\n",
       "  <thead>\n",
       "    <tr style=\"text-align: right;\">\n",
       "      <th></th>\n",
       "      <th>diagnosis</th>\n",
       "      <th>radius_mean</th>\n",
       "      <th>texture_mean</th>\n",
       "      <th>perimeter_mean</th>\n",
       "      <th>area_mean</th>\n",
       "      <th>smoothness_mean</th>\n",
       "      <th>compactness_mean</th>\n",
       "      <th>concavity_mean</th>\n",
       "      <th>concave points_mean</th>\n",
       "      <th>symmetry_mean</th>\n",
       "      <th>...</th>\n",
       "      <th>radius_worst</th>\n",
       "      <th>texture_worst</th>\n",
       "      <th>perimeter_worst</th>\n",
       "      <th>area_worst</th>\n",
       "      <th>smoothness_worst</th>\n",
       "      <th>compactness_worst</th>\n",
       "      <th>concavity_worst</th>\n",
       "      <th>concave points_worst</th>\n",
       "      <th>symmetry_worst</th>\n",
       "      <th>fractal_dimension_worst</th>\n",
       "    </tr>\n",
       "  </thead>\n",
       "  <tbody>\n",
       "    <tr>\n",
       "      <th>0</th>\n",
       "      <td>M</td>\n",
       "      <td>17.99</td>\n",
       "      <td>10.38</td>\n",
       "      <td>122.80</td>\n",
       "      <td>1001.0</td>\n",
       "      <td>0.11840</td>\n",
       "      <td>0.27760</td>\n",
       "      <td>0.3001</td>\n",
       "      <td>0.14710</td>\n",
       "      <td>0.2419</td>\n",
       "      <td>...</td>\n",
       "      <td>25.38</td>\n",
       "      <td>17.33</td>\n",
       "      <td>184.60</td>\n",
       "      <td>2019.0</td>\n",
       "      <td>0.1622</td>\n",
       "      <td>0.6656</td>\n",
       "      <td>0.7119</td>\n",
       "      <td>0.2654</td>\n",
       "      <td>0.4601</td>\n",
       "      <td>0.11890</td>\n",
       "    </tr>\n",
       "    <tr>\n",
       "      <th>1</th>\n",
       "      <td>M</td>\n",
       "      <td>20.57</td>\n",
       "      <td>17.77</td>\n",
       "      <td>132.90</td>\n",
       "      <td>1326.0</td>\n",
       "      <td>0.08474</td>\n",
       "      <td>0.07864</td>\n",
       "      <td>0.0869</td>\n",
       "      <td>0.07017</td>\n",
       "      <td>0.1812</td>\n",
       "      <td>...</td>\n",
       "      <td>24.99</td>\n",
       "      <td>23.41</td>\n",
       "      <td>158.80</td>\n",
       "      <td>1956.0</td>\n",
       "      <td>0.1238</td>\n",
       "      <td>0.1866</td>\n",
       "      <td>0.2416</td>\n",
       "      <td>0.1860</td>\n",
       "      <td>0.2750</td>\n",
       "      <td>0.08902</td>\n",
       "    </tr>\n",
       "    <tr>\n",
       "      <th>2</th>\n",
       "      <td>M</td>\n",
       "      <td>19.69</td>\n",
       "      <td>21.25</td>\n",
       "      <td>130.00</td>\n",
       "      <td>1203.0</td>\n",
       "      <td>0.10960</td>\n",
       "      <td>0.15990</td>\n",
       "      <td>0.1974</td>\n",
       "      <td>0.12790</td>\n",
       "      <td>0.2069</td>\n",
       "      <td>...</td>\n",
       "      <td>23.57</td>\n",
       "      <td>25.53</td>\n",
       "      <td>152.50</td>\n",
       "      <td>1709.0</td>\n",
       "      <td>0.1444</td>\n",
       "      <td>0.4245</td>\n",
       "      <td>0.4504</td>\n",
       "      <td>0.2430</td>\n",
       "      <td>0.3613</td>\n",
       "      <td>0.08758</td>\n",
       "    </tr>\n",
       "    <tr>\n",
       "      <th>3</th>\n",
       "      <td>M</td>\n",
       "      <td>11.42</td>\n",
       "      <td>20.38</td>\n",
       "      <td>77.58</td>\n",
       "      <td>386.1</td>\n",
       "      <td>0.14250</td>\n",
       "      <td>0.28390</td>\n",
       "      <td>0.2414</td>\n",
       "      <td>0.10520</td>\n",
       "      <td>0.2597</td>\n",
       "      <td>...</td>\n",
       "      <td>14.91</td>\n",
       "      <td>26.50</td>\n",
       "      <td>98.87</td>\n",
       "      <td>567.7</td>\n",
       "      <td>0.2098</td>\n",
       "      <td>0.8663</td>\n",
       "      <td>0.6869</td>\n",
       "      <td>0.2575</td>\n",
       "      <td>0.6638</td>\n",
       "      <td>0.17300</td>\n",
       "    </tr>\n",
       "    <tr>\n",
       "      <th>4</th>\n",
       "      <td>M</td>\n",
       "      <td>20.29</td>\n",
       "      <td>14.34</td>\n",
       "      <td>135.10</td>\n",
       "      <td>1297.0</td>\n",
       "      <td>0.10030</td>\n",
       "      <td>0.13280</td>\n",
       "      <td>0.1980</td>\n",
       "      <td>0.10430</td>\n",
       "      <td>0.1809</td>\n",
       "      <td>...</td>\n",
       "      <td>22.54</td>\n",
       "      <td>16.67</td>\n",
       "      <td>152.20</td>\n",
       "      <td>1575.0</td>\n",
       "      <td>0.1374</td>\n",
       "      <td>0.2050</td>\n",
       "      <td>0.4000</td>\n",
       "      <td>0.1625</td>\n",
       "      <td>0.2364</td>\n",
       "      <td>0.07678</td>\n",
       "    </tr>\n",
       "  </tbody>\n",
       "</table>\n",
       "<p>5 rows × 31 columns</p>\n",
       "</div>"
      ],
      "text/plain": [
       "  diagnosis  radius_mean  texture_mean  perimeter_mean  area_mean  \\\n",
       "0         M        17.99         10.38          122.80     1001.0   \n",
       "1         M        20.57         17.77          132.90     1326.0   \n",
       "2         M        19.69         21.25          130.00     1203.0   \n",
       "3         M        11.42         20.38           77.58      386.1   \n",
       "4         M        20.29         14.34          135.10     1297.0   \n",
       "\n",
       "   smoothness_mean  compactness_mean  concavity_mean  concave points_mean  \\\n",
       "0          0.11840           0.27760          0.3001              0.14710   \n",
       "1          0.08474           0.07864          0.0869              0.07017   \n",
       "2          0.10960           0.15990          0.1974              0.12790   \n",
       "3          0.14250           0.28390          0.2414              0.10520   \n",
       "4          0.10030           0.13280          0.1980              0.10430   \n",
       "\n",
       "   symmetry_mean           ...             radius_worst  texture_worst  \\\n",
       "0         0.2419           ...                    25.38          17.33   \n",
       "1         0.1812           ...                    24.99          23.41   \n",
       "2         0.2069           ...                    23.57          25.53   \n",
       "3         0.2597           ...                    14.91          26.50   \n",
       "4         0.1809           ...                    22.54          16.67   \n",
       "\n",
       "   perimeter_worst  area_worst  smoothness_worst  compactness_worst  \\\n",
       "0           184.60      2019.0            0.1622             0.6656   \n",
       "1           158.80      1956.0            0.1238             0.1866   \n",
       "2           152.50      1709.0            0.1444             0.4245   \n",
       "3            98.87       567.7            0.2098             0.8663   \n",
       "4           152.20      1575.0            0.1374             0.2050   \n",
       "\n",
       "   concavity_worst  concave points_worst  symmetry_worst  \\\n",
       "0           0.7119                0.2654          0.4601   \n",
       "1           0.2416                0.1860          0.2750   \n",
       "2           0.4504                0.2430          0.3613   \n",
       "3           0.6869                0.2575          0.6638   \n",
       "4           0.4000                0.1625          0.2364   \n",
       "\n",
       "   fractal_dimension_worst  \n",
       "0                  0.11890  \n",
       "1                  0.08902  \n",
       "2                  0.08758  \n",
       "3                  0.17300  \n",
       "4                  0.07678  \n",
       "\n",
       "[5 rows x 31 columns]"
      ]
     },
     "execution_count": 6,
     "metadata": {},
     "output_type": "execute_result"
    }
   ],
   "source": [
    "data.head()"
   ]
  },
  {
   "cell_type": "markdown",
   "metadata": {},
   "source": [
    "assigning:\n",
    "* M as Maligant Tumor to 1\n",
    "* B as Benign Tumor to 0"
   ]
  },
  {
   "cell_type": "code",
   "execution_count": 7,
   "metadata": {
    "collapsed": true
   },
   "outputs": [],
   "source": [
    "df = data.copy()"
   ]
  },
  {
   "cell_type": "code",
   "execution_count": 8,
   "metadata": {
    "collapsed": true
   },
   "outputs": [],
   "source": [
    "def cat_to_binary(col):\n",
    "    if col == \"M\":\n",
    "        return 1\n",
    "    else:\n",
    "        return 0"
   ]
  },
  {
   "cell_type": "code",
   "execution_count": 9,
   "metadata": {
    "collapsed": true
   },
   "outputs": [],
   "source": [
    "df['diagnosis'] = df['diagnosis'].apply(cat_to_binary)"
   ]
  },
  {
   "cell_type": "markdown",
   "metadata": {},
   "source": [
    "For indexing purposes, separating the features in 3 distinct categories:\n",
    "* feature_mean\n",
    "* feature_se (standard error)\n",
    "* feature_worst "
   ]
  },
  {
   "cell_type": "code",
   "execution_count": 10,
   "metadata": {
    "collapsed": false
   },
   "outputs": [
    {
     "name": "stdout",
     "output_type": "stream",
     "text": [
      "Index(['radius_mean', 'texture_mean', 'perimeter_mean', 'area_mean',\n",
      "       'smoothness_mean', 'compactness_mean', 'concavity_mean',\n",
      "       'concave points_mean', 'symmetry_mean', 'fractal_dimension_mean'],\n",
      "      dtype='object')\n",
      "Index(['radius_se', 'texture_se', 'perimeter_se', 'area_se', 'smoothness_se',\n",
      "       'compactness_se', 'concavity_se', 'concave points_se', 'symmetry_se',\n",
      "       'fractal_dimension_se'],\n",
      "      dtype='object')\n",
      "Index(['radius_worst', 'texture_worst', 'perimeter_worst', 'area_worst',\n",
      "       'smoothness_worst', 'compactness_worst', 'concavity_worst',\n",
      "       'concave points_worst', 'symmetry_worst', 'fractal_dimension_worst'],\n",
      "      dtype='object')\n"
     ]
    }
   ],
   "source": [
    "features_mean = df.columns[1:11]\n",
    "features_se = df.columns[11:21]\n",
    "features_worst = df.columns[21:31]\n",
    "allfeatures = df.columns[1:]\n",
    "print(features_mean)\n",
    "print(features_se)\n",
    "print(features_worst)"
   ]
  },
  {
   "cell_type": "markdown",
   "metadata": {},
   "source": [
    "# Exploratory Data Analysis"
   ]
  },
  {
   "cell_type": "markdown",
   "metadata": {},
   "source": [
    "1. Diagnosis Distribution"
   ]
  },
  {
   "cell_type": "code",
   "execution_count": null,
   "metadata": {
    "collapsed": false
   },
   "outputs": [],
   "source": [
    "sns.countplot(x = 'diagnosis', data = df, palette ='RdBu_r')"
   ]
  },
  {
   "cell_type": "code",
   "execution_count": null,
   "metadata": {
    "collapsed": false
   },
   "outputs": [],
   "source": [
    "df.describe()"
   ]
  },
  {
   "cell_type": "code",
   "execution_count": null,
   "metadata": {
    "collapsed": false
   },
   "outputs": [],
   "source": [
    "plt.figure(figsize=(15,15))\n",
    "sns.heatmap(df[features_mean].corr(), annot=True)"
   ]
  },
  {
   "cell_type": "code",
   "execution_count": null,
   "metadata": {
    "collapsed": false
   },
   "outputs": [],
   "source": [
    "plt.figure(figsize=(15,15))\n",
    "sns.heatmap(df[features_worst].corr(), annot=True, cmap='BrBG')"
   ]
  },
  {
   "cell_type": "code",
   "execution_count": null,
   "metadata": {
    "collapsed": false
   },
   "outputs": [],
   "source": [
    "plt.figure(figsize=(15,15))\n",
    "sns.heatmap(df[features_se].corr(), annot=True, cmap='RdBu')"
   ]
  },
  {
   "cell_type": "markdown",
   "metadata": {},
   "source": [
    "Above heatmaps shows high correlation between certain features in all three cases, as follows:\n",
    "* High correlation between 'radius', 'area', and 'perimeter'\n",
    "* Relatively high correlation between 'compactness', 'concavity', and 'concave points'\n",
    "\n",
    "I'll go ahead and remove features with more than .9 correlation, which are:\n",
    "- perimeter_mean, perimeter_se, perimeter_worst\n",
    "- area_mean, area_se, area_worst\n",
    "- concave points_mean"
   ]
  },
  {
   "cell_type": "markdown",
   "metadata": {},
   "source": [
    "Now let's see the correlation in features for each case 'mean', 'se', 'worst'"
   ]
  },
  {
   "cell_type": "code",
   "execution_count": null,
   "metadata": {
    "collapsed": false
   },
   "outputs": [],
   "source": [
    "features_mean_2 = features_mean.drop(['perimeter_mean','area_mean','concave points_mean'])\n",
    "features_se_2 = features_se.drop(['perimeter_se', 'area_se'])\n",
    "features_worst_2 = features_worst.drop('perimeter_worst','area_worst')\n",
    "allfeatures_2 = allfeatures.drop(['perimeter_mean','area_mean', 'concave points_mean',\n",
    "                                  'perimeter_se', 'area_se','perimeter_worst','area_worst'])"
   ]
  },
  {
   "cell_type": "code",
   "execution_count": null,
   "metadata": {
    "collapsed": true
   },
   "outputs": [],
   "source": [
    "# a feature list made in order to compare each feature in the 3 cases of 'mean', 'se', and 'worst'\n",
    "features_cat = []\n",
    "columns_list = np.array(allfeatures)\n",
    "gen = ([i, i+10, i+20] for i in range(10))\n",
    "for x in gen:\n",
    "    features_cat.append(columns_list[x].tolist())"
   ]
  },
  {
   "cell_type": "code",
   "execution_count": null,
   "metadata": {
    "collapsed": false
   },
   "outputs": [],
   "source": [
    "# let's try it out for the radius\n",
    "df[features_cat[3]].describe()"
   ]
  },
  {
   "cell_type": "code",
   "execution_count": null,
   "metadata": {
    "collapsed": false
   },
   "outputs": [],
   "source": [
    "plt.figure(figsize=(16,24))\n",
    "for i in range(10):\n",
    "    plt.subplot(5,2,i+1)\n",
    "    sns.heatmap(df[features_cat[i]].corr(), annot=True)"
   ]
  },
  {
   "cell_type": "markdown",
   "metadata": {},
   "source": [
    "above heatmaps shows correlation between 'mean' case and the 'worst' case of the following features:\n",
    "* radius\n",
    "* texture\n",
    "\n",
    "I'll drop radius_worst and texture_worst as well"
   ]
  },
  {
   "cell_type": "code",
   "execution_count": null,
   "metadata": {
    "collapsed": false
   },
   "outputs": [],
   "source": [
    "features_worst_2 = features_worst.drop(['radius_worst', 'texture_worst'])\n",
    "allfeatures_2 = allfeatures_2.drop(['radius_worst', 'texture_worst'])"
   ]
  },
  {
   "cell_type": "markdown",
   "metadata": {},
   "source": [
    "Now I have a smaller version of features set which I can use for my calculations and for showing results\n",
    "\n",
    "Now lets plot a scatter plot for the new features_mean:"
   ]
  },
  {
   "cell_type": "code",
   "execution_count": null,
   "metadata": {
    "collapsed": false,
    "scrolled": true
   },
   "outputs": [],
   "source": [
    "plt.figure(figsize=(15,15))\n",
    "sns.pairplot(pd.concat([data.diagnosis,df[features_mean_2]], axis = 1), hue= 'diagnosis', palette='coolwarm')"
   ]
  },
  {
   "cell_type": "markdown",
   "metadata": {},
   "source": [
    "Last but not least, will check if there is any missing data in the dataset:"
   ]
  },
  {
   "cell_type": "markdown",
   "metadata": {},
   "source": [
    "# Train Test Split"
   ]
  },
  {
   "cell_type": "code",
   "execution_count": null,
   "metadata": {
    "collapsed": false
   },
   "outputs": [],
   "source": [
    "df.head()"
   ]
  },
  {
   "cell_type": "code",
   "execution_count": null,
   "metadata": {
    "collapsed": false
   },
   "outputs": [],
   "source": [
    "df.columns"
   ]
  },
  {
   "cell_type": "code",
   "execution_count": 11,
   "metadata": {
    "collapsed": false
   },
   "outputs": [],
   "source": [
    "X = df[allfeatures]"
   ]
  },
  {
   "cell_type": "code",
   "execution_count": 12,
   "metadata": {
    "collapsed": false
   },
   "outputs": [
    {
     "name": "stdout",
     "output_type": "stream",
     "text": [
      "(569, 30)\n"
     ]
    }
   ],
   "source": [
    "print(X.shape)"
   ]
  },
  {
   "cell_type": "code",
   "execution_count": 13,
   "metadata": {
    "collapsed": true
   },
   "outputs": [],
   "source": [
    "y = df['diagnosis']"
   ]
  },
  {
   "cell_type": "code",
   "execution_count": 14,
   "metadata": {
    "collapsed": false
   },
   "outputs": [
    {
     "data": {
      "text/plain": [
       "(569,)"
      ]
     },
     "execution_count": 14,
     "metadata": {},
     "output_type": "execute_result"
    }
   ],
   "source": [
    "y.shape"
   ]
  },
  {
   "cell_type": "code",
   "execution_count": 15,
   "metadata": {
    "collapsed": true
   },
   "outputs": [],
   "source": [
    "from sklearn.model_selection import train_test_split\n",
    "\n",
    "X_train, X_test, y_train, y_test = train_test_split(X, y, test_size = .3)"
   ]
  },
  {
   "cell_type": "code",
   "execution_count": 16,
   "metadata": {
    "collapsed": false
   },
   "outputs": [
    {
     "name": "stdout",
     "output_type": "stream",
     "text": [
      "(398, 30) (171, 30) (398,) (171,)\n"
     ]
    }
   ],
   "source": [
    "print(X_train.shape, X_test.shape, y_train.shape, y_test.shape)"
   ]
  },
  {
   "cell_type": "code",
   "execution_count": 17,
   "metadata": {
    "collapsed": true
   },
   "outputs": [],
   "source": [
    "from sklearn.preprocessing import StandardScaler\n",
    "sc_X = StandardScaler()\n",
    "X_train_scaled = sc_X.fit_transform(X_train)\n",
    "X_test_scaled = sc_X.transform(X_test)"
   ]
  },
  {
   "cell_type": "markdown",
   "metadata": {},
   "source": [
    "# Logistic Regression"
   ]
  },
  {
   "cell_type": "code",
   "execution_count": 18,
   "metadata": {
    "collapsed": false
   },
   "outputs": [],
   "source": [
    "from sklearn.linear_model import LogisticRegression\n",
    "from sklearn.model_selection import cross_validate, KFold\n",
    "from sklearn import preprocessing\n",
    "from sklearn.pipeline import make_pipeline"
   ]
  },
  {
   "cell_type": "code",
   "execution_count": 19,
   "metadata": {
    "collapsed": false
   },
   "outputs": [
    {
     "name": "stdout",
     "output_type": "stream",
     "text": [
      "(569, 30) (569,)\n"
     ]
    }
   ],
   "source": [
    "print(X.shape, y.shape)"
   ]
  },
  {
   "cell_type": "code",
   "execution_count": 20,
   "metadata": {
    "collapsed": true
   },
   "outputs": [],
   "source": [
    "score_list = ['accuracy', 'precision', 'recall']\n",
    "\n",
    "def cross_validate_with_statistics(classifier, X, y):\n",
    "\n",
    "    scores = cross_validate(classifier, X, y, \n",
    "                            cv=KFold(10, shuffle=True, random_state=42), \n",
    "                            scoring=score_list, return_train_score=True,\n",
    "                            )\n",
    "    \n",
    "    # get mean and std of \n",
    "    means = {s:np.mean(scores[s]) for s in scores}\n",
    "    stds = {s:np.std(scores[s]) for s in scores}\n",
    "\n",
    "    return means, stds"
   ]
  },
  {
   "cell_type": "code",
   "execution_count": 27,
   "metadata": {
    "collapsed": false
   },
   "outputs": [],
   "source": [
    "def logistic_regression(X, y, cs):\n",
    "    \n",
    "    scores_lr = np.zeros((len(cs),3,3))\n",
    "    \n",
    "    for i, c in enumerate(cs):\n",
    "        # instantiate logisitc_regression classifier\n",
    "        clf = LogisticRegression(C = c)\n",
    "        # standarize to 0 and 1\n",
    "        clf = make_pipeline(preprocessing.StandardScaler(), clf)\n",
    "        lr_means, lr_stds = cross_validate_with_statistics(clf, X, y)\n",
    "\n",
    "        scores_lr[i,0,0] = lr_means['test_accuracy']\n",
    "        scores_lr[i,1,0] = lr_means['test_precision']\n",
    "        scores_lr[i,2,0] = lr_means['test_recall']\n",
    "\n",
    "        scores_lr[i,0,1] = lr_stds['test_accuracy']\n",
    "        scores_lr[i,1,1] = lr_stds['test_precision']\n",
    "        scores_lr[i,2,1] = lr_stds['test_recall']\n",
    "        \n",
    "        scores_lr[i,0,2] = lr_means['train_accuracy']\n",
    "        scores_lr[i,1,2] = lr_means['train_precision']\n",
    "        scores_lr[i,2,2] = lr_means['train_recall']\n",
    "        \n",
    "    return scores_lr\n",
    "\n",
    "cs = [10**x for x in range(-3,3)]\n",
    "scores_lr = logistic_regression(X,y, cs)"
   ]
  },
  {
   "cell_type": "code",
   "execution_count": 68,
   "metadata": {
    "collapsed": false
   },
   "outputs": [
    {
     "data": {
      "image/png": "[encoded data removed]",
      "text/plain": [
       "<matplotlib.figure.Figure at 0x1a20b4f240>"
      ]
     },
     "metadata": {},
     "output_type": "display_data"
    }
   ],
   "source": [
    "def tradeOff(scores, tune_p, s, ss):\n",
    "\n",
    "    fig = plt.figure()\n",
    "    ax = fig.add_subplot(111)\n",
    "    line, = ax.plot(tune_p, scores[:,0,2], color = 'green', lw = 2, label = 'training')\n",
    "    line, = ax.plot(tune_p, scores[:,0,0], color = 'red' , lw = 2, label = 'test')\n",
    "\n",
    "    ax.legend(loc = 'best')\n",
    "\n",
    "    ax.set_xscale('log')\n",
    "    ax.set_ylim(.94, 1)\n",
    "    ax.set_ylabel('Accuracy')\n",
    "    ax.set_xlabel('Model flexibility - '+ss+'')\n",
    "\n",
    "    plt.savefig('figs/'+s+'.pdf')\n",
    "\n",
    "tradeOff(scores_lr, cs, 'tradeoff_lr', 'C parameter')"
   ]
  },
  {
   "cell_type": "code",
   "execution_count": 22,
   "metadata": {
    "collapsed": false
   },
   "outputs": [],
   "source": [
    "def lr_plot(lr_res, cs, s):\n",
    "    \n",
    "    from matplotlib.ticker import FormatStrFormatter\n",
    "    \n",
    "    # precision recall plot\n",
    "    # recall\n",
    "    xpl = lr_res[:,2,0]\n",
    "    # precision\n",
    "    ypl = lr_res[:,1,0]\n",
    "\n",
    "    xerr = lr_res[:,2,1]\n",
    "    yerr = lr_res[:,1,1]\n",
    "\n",
    "    fig, ax = plt.subplots()\n",
    "    ax.yaxis.set_major_formatter(FormatStrFormatter('%.2f'))\n",
    "\n",
    "    plt.errorbar(xpl, ypl, yerr, xerr, fmt='none', alpha=0.3, elinewidth=0.5)\n",
    "\n",
    "    plt.scatter(xpl, ypl, c=cs, cmap = 'summer',label='logistic')\n",
    "    plt.colorbar(format=FormatStrFormatter('%i'), label='$c$')\n",
    "\n",
    "    plt.plot([0,0.9999,1],[1,1,0], label='ideal', c='gray', alpha=0.8, linewidth=0.5)\n",
    "    \n",
    "    for i,c in enumerate(cs):\n",
    "        plt.annotate(r\"$c={}$\".format(c), (xpl[i]-0.02 , ypl[i]-0.009))\n",
    "\n",
    "    plt.ylabel('Precision')\n",
    "    plt.xlabel('Recall')\n",
    "    plt.ylim(0.9, 1.005)\n",
    "    plt.xlim(0.4, 1.01)\n",
    "    plt.tight_layout()\n",
    "    plt.savefig('figs/'+s+'.pdf')"
   ]
  },
  {
   "cell_type": "code",
   "execution_count": 23,
   "metadata": {
    "collapsed": false
   },
   "outputs": [
    {
     "data": {
      "image/png": "[encoded data removed]",
      "text/plain": [
       "<matplotlib.figure.Figure at 0x1a1ead65c0>"
      ]
     },
     "metadata": {},
     "output_type": "display_data"
    }
   ],
   "source": [
    "lr_plot(scores_lr, cs, 'logistic_regression')"
   ]
  },
  {
   "cell_type": "code",
   "execution_count": null,
   "metadata": {
    "collapsed": true
   },
   "outputs": [],
   "source": [
    "for i, c in enumerate(cs):\n",
    "    print(\"Training set score: {:.3f}\".format(scores_lr[i, 0, 2]))\n",
    "    print(\"Training set score: {:.3f}\".format(scores_lr[i, 0, 0]))"
   ]
  },
  {
   "cell_type": "code",
   "execution_count": null,
   "metadata": {
    "collapsed": false
   },
   "outputs": [],
   "source": [
    "df.drop('diagnosis', axis = 1).columns"
   ]
  },
  {
   "cell_type": "code",
   "execution_count": null,
   "metadata": {
    "collapsed": false
   },
   "outputs": [],
   "source": [
    "lr = LogisticRegression().fit(X_train, y_train)\n",
    "lr_01 = LogisticRegression().fit(X_train, y_train)\n",
    "lr_001 = LogisticRegression().fit(X_train, y_train)\n",
    "\n",
    "plt.plot(lgr.coef_.T,'o',label='C=1')\n",
    "plt.plot(lgr100.coef_.T,'*',label='C=0.1')\n",
    "plt.plot(lgr001.coef_.T,'-',label='C=0.01')\n",
    "plt.xticks(range(df.drop('diagnosis', axis = 1).shape[1]),df.drop('diagnosis', axis = 1).columns,rotation=90)\n",
    "plt.ylim(-6,6)\n",
    "plt.legend()\n",
    "plt.savefig('figs/logistic_coef.pdf')"
   ]
  },
  {
   "cell_type": "code",
   "execution_count": null,
   "metadata": {
    "collapsed": false
   },
   "outputs": [],
   "source": [
    "######default C=1#####\n",
    "lgr=LogisticRegression().fit(X_train,y_train)\n",
    "print(\"training set score: %f\" % lgr.score(X_train, y_train))\n",
    "print('\\n'\"test set score: %f\" % lgr.score(X_test, y_test))\n",
    " \n",
    "######increase C to 100#####\n",
    "lgr100=LogisticRegression(C=100).fit(X_train,y_train)\n",
    "print('\\n'\"training set score of lgr100: %f\" % lgr100.score(X_train, y_train))\n",
    "print('\\n'\"test set score of lgr100: %f\" % lgr100.score(X_test, y_test))\n",
    " \n",
    "######decrease C to 0.01#####\n",
    "lgr001=LogisticRegression(C=0.01).fit(X_train,y_train)\n",
    "print('\\n'\"training set score of lgr001: %f\" % lgr001.score(X_train, y_train))\n",
    "print('\\n'\"test set score of lgr001: %f\" % lgr001.score(X_test, y_test))\n",
    " \n",
    "import matplotlib.pyplot as plt\n",
    "plt.plot(lgr.coef_.T,'o',label='C=1')\n",
    "plt.plot(lgr100.coef_.T,'*',label='C=100')\n",
    "plt.plot(lgr001.coef_.T,'-',label='C=0.01')\n",
    "plt.xticks(range(df.drop('diagnosis', axis = 1).shape[1]),df.drop('diagnosis', axis = 1).columns,rotation=90)\n",
    "plt.ylim(-6,6)\n",
    "plt.legend()\n",
    "plt.show()"
   ]
  },
  {
   "cell_type": "markdown",
   "metadata": {},
   "source": [
    "# LDA & QDA"
   ]
  },
  {
   "cell_type": "code",
   "execution_count": null,
   "metadata": {
    "collapsed": true
   },
   "outputs": [],
   "source": [
    "from sklearn.discriminant_analysis import LinearDiscriminantAnalysis\n",
    "from sklearn.discriminant_analysis import QuadraticDiscriminantAnalysis"
   ]
  },
  {
   "cell_type": "code",
   "execution_count": null,
   "metadata": {
    "collapsed": false
   },
   "outputs": [],
   "source": [
    "def LDA(X, y):\n",
    "    \n",
    "    scores_lda = np.zeros((3,2))\n",
    "    # instantiate logisitc_regression classifier\n",
    "    clf = LinearDiscriminantAnalysis(solver= 'svd', n_components=2)\n",
    "    # standarize to 0 and 1\n",
    "    clf = make_pipeline(preprocessing.StandardScaler(), clf)\n",
    "    lda_means, lda_stds = cross_validate_with_statistics(clf, X, y)\n",
    "\n",
    "    scores_lda[0,0] = lda_means['test_accuracy']\n",
    "    scores_lda[1,0] = lda_means['test_precision']\n",
    "    scores_lda[2,0] = lda_means['test_recall']\n",
    "\n",
    "    scores_lda[0,1] = lda_stds['test_accuracy']\n",
    "    scores_lda[1,1] = lda_stds['test_precision']\n",
    "    scores_lda[2,1] = lda_stds['test_recall']\n",
    "        \n",
    "        \n",
    "    return scores_lda\n",
    "\n",
    "scores_lda = LDA(X,y)"
   ]
  },
  {
   "cell_type": "code",
   "execution_count": null,
   "metadata": {
    "collapsed": false
   },
   "outputs": [],
   "source": [
    "scores_lda"
   ]
  },
  {
   "cell_type": "code",
   "execution_count": null,
   "metadata": {
    "collapsed": false
   },
   "outputs": [],
   "source": [
    "def QDA(X, y):\n",
    "    \n",
    "    scores_qda = np.zeros((3,2))\n",
    "    # instantiate logisitc_regression classifier\n",
    "    clf = QuadraticDiscriminantAnalysis()\n",
    "    # standarize to 0 and 1\n",
    "    clf = make_pipeline(preprocessing.StandardScaler(), clf)\n",
    "    qda_means, qda_stds = cross_validate_with_statistics(clf, X, y)\n",
    "\n",
    "    scores_qda[0,0] = qda_means['test_accuracy']\n",
    "    scores_qda[1,0] = qda_means['test_precision']\n",
    "    scores_qda[2,0] = qda_means['test_recall']\n",
    "\n",
    "    scores_qda[0,1] = qda_stds['test_accuracy']\n",
    "    scores_qda[1,1] = qda_stds['test_precision']\n",
    "    scores_qda[2,1] = qda_stds['test_recall']\n",
    "        \n",
    "        \n",
    "    return scores_qda\n",
    "\n",
    "scores_qda = QDA(X,y)"
   ]
  },
  {
   "cell_type": "code",
   "execution_count": null,
   "metadata": {
    "collapsed": false
   },
   "outputs": [],
   "source": [
    "clf = QuadraticDiscriminantAnalysis()\n",
    "clf = make_pipeline(preprocessing.StandardScaler(), clf)\n",
    "cross_validate_with_statistics(clf, X, y)"
   ]
  },
  {
   "cell_type": "code",
   "execution_count": null,
   "metadata": {
    "collapsed": false
   },
   "outputs": [],
   "source": [
    "scores_qda"
   ]
  },
  {
   "cell_type": "markdown",
   "metadata": {
    "collapsed": true
   },
   "source": [
    "# Denisity Trees"
   ]
  },
  {
   "cell_type": "code",
   "execution_count": null,
   "metadata": {
    "collapsed": true
   },
   "outputs": [],
   "source": []
  }
 ],
 "metadata": {
  "kernelspec": {
   "display_name": "Python 3",
   "language": "python",
   "name": "python3"
  },
  "language_info": {
   "codemirror_mode": {
    "name": "ipython",
    "version": 3
   },
   "file_extension": ".py",
   "mimetype": "text/x-python",
   "name": "python",
   "nbconvert_exporter": "python",
   "pygments_lexer": "ipython3",
   "version": "3.6.0"
  }
 },
 "nbformat": 4,
 "nbformat_minor": 2
}
