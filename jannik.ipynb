{
 "cells": [
  {
   "cell_type": "code",
   "execution_count": 277,
   "metadata": {},
   "outputs": [],
   "source": [
    "import numpy as np\n",
    "import pandas as pd\n",
    "from matplotlib import pyplot as plt\n",
    "import seaborn as sns\n",
    "%matplotlib inline"
   ]
  },
  {
   "cell_type": "markdown",
   "metadata": {},
   "source": [
    "## Getting to know the data set"
   ]
  },
  {
   "cell_type": "code",
   "execution_count": 278,
   "metadata": {},
   "outputs": [
    {
     "data": {
      "text/html": [
       "<div>\n",
       "<style scoped>\n",
       "    .dataframe tbody tr th:only-of-type {\n",
       "        vertical-align: middle;\n",
       "    }\n",
       "\n",
       "    .dataframe tbody tr th {\n",
       "        vertical-align: top;\n",
       "    }\n",
       "\n",
       "    .dataframe thead th {\n",
       "        text-align: right;\n",
       "    }\n",
       "</style>\n",
       "<table border=\"1\" class=\"dataframe\">\n",
       "  <thead>\n",
       "    <tr style=\"text-align: right;\">\n",
       "      <th></th>\n",
       "      <th>diagnosis</th>\n",
       "      <th>radius_mean</th>\n",
       "      <th>texture_mean</th>\n",
       "      <th>perimeter_mean</th>\n",
       "      <th>area_mean</th>\n",
       "      <th>smoothness_mean</th>\n",
       "      <th>compactness_mean</th>\n",
       "      <th>concavity_mean</th>\n",
       "      <th>concave points_mean</th>\n",
       "      <th>symmetry_mean</th>\n",
       "      <th>...</th>\n",
       "      <th>radius_worst</th>\n",
       "      <th>texture_worst</th>\n",
       "      <th>perimeter_worst</th>\n",
       "      <th>area_worst</th>\n",
       "      <th>smoothness_worst</th>\n",
       "      <th>compactness_worst</th>\n",
       "      <th>concavity_worst</th>\n",
       "      <th>concave points_worst</th>\n",
       "      <th>symmetry_worst</th>\n",
       "      <th>fractal_dimension_worst</th>\n",
       "    </tr>\n",
       "  </thead>\n",
       "  <tbody>\n",
       "    <tr>\n",
       "      <th>0</th>\n",
       "      <td>M</td>\n",
       "      <td>17.99</td>\n",
       "      <td>10.38</td>\n",
       "      <td>122.80</td>\n",
       "      <td>1001.0</td>\n",
       "      <td>0.11840</td>\n",
       "      <td>0.27760</td>\n",
       "      <td>0.3001</td>\n",
       "      <td>0.14710</td>\n",
       "      <td>0.2419</td>\n",
       "      <td>...</td>\n",
       "      <td>25.38</td>\n",
       "      <td>17.33</td>\n",
       "      <td>184.60</td>\n",
       "      <td>2019.0</td>\n",
       "      <td>0.1622</td>\n",
       "      <td>0.6656</td>\n",
       "      <td>0.7119</td>\n",
       "      <td>0.2654</td>\n",
       "      <td>0.4601</td>\n",
       "      <td>0.11890</td>\n",
       "    </tr>\n",
       "    <tr>\n",
       "      <th>1</th>\n",
       "      <td>M</td>\n",
       "      <td>20.57</td>\n",
       "      <td>17.77</td>\n",
       "      <td>132.90</td>\n",
       "      <td>1326.0</td>\n",
       "      <td>0.08474</td>\n",
       "      <td>0.07864</td>\n",
       "      <td>0.0869</td>\n",
       "      <td>0.07017</td>\n",
       "      <td>0.1812</td>\n",
       "      <td>...</td>\n",
       "      <td>24.99</td>\n",
       "      <td>23.41</td>\n",
       "      <td>158.80</td>\n",
       "      <td>1956.0</td>\n",
       "      <td>0.1238</td>\n",
       "      <td>0.1866</td>\n",
       "      <td>0.2416</td>\n",
       "      <td>0.1860</td>\n",
       "      <td>0.2750</td>\n",
       "      <td>0.08902</td>\n",
       "    </tr>\n",
       "    <tr>\n",
       "      <th>2</th>\n",
       "      <td>M</td>\n",
       "      <td>19.69</td>\n",
       "      <td>21.25</td>\n",
       "      <td>130.00</td>\n",
       "      <td>1203.0</td>\n",
       "      <td>0.10960</td>\n",
       "      <td>0.15990</td>\n",
       "      <td>0.1974</td>\n",
       "      <td>0.12790</td>\n",
       "      <td>0.2069</td>\n",
       "      <td>...</td>\n",
       "      <td>23.57</td>\n",
       "      <td>25.53</td>\n",
       "      <td>152.50</td>\n",
       "      <td>1709.0</td>\n",
       "      <td>0.1444</td>\n",
       "      <td>0.4245</td>\n",
       "      <td>0.4504</td>\n",
       "      <td>0.2430</td>\n",
       "      <td>0.3613</td>\n",
       "      <td>0.08758</td>\n",
       "    </tr>\n",
       "    <tr>\n",
       "      <th>3</th>\n",
       "      <td>M</td>\n",
       "      <td>11.42</td>\n",
       "      <td>20.38</td>\n",
       "      <td>77.58</td>\n",
       "      <td>386.1</td>\n",
       "      <td>0.14250</td>\n",
       "      <td>0.28390</td>\n",
       "      <td>0.2414</td>\n",
       "      <td>0.10520</td>\n",
       "      <td>0.2597</td>\n",
       "      <td>...</td>\n",
       "      <td>14.91</td>\n",
       "      <td>26.50</td>\n",
       "      <td>98.87</td>\n",
       "      <td>567.7</td>\n",
       "      <td>0.2098</td>\n",
       "      <td>0.8663</td>\n",
       "      <td>0.6869</td>\n",
       "      <td>0.2575</td>\n",
       "      <td>0.6638</td>\n",
       "      <td>0.17300</td>\n",
       "    </tr>\n",
       "    <tr>\n",
       "      <th>4</th>\n",
       "      <td>M</td>\n",
       "      <td>20.29</td>\n",
       "      <td>14.34</td>\n",
       "      <td>135.10</td>\n",
       "      <td>1297.0</td>\n",
       "      <td>0.10030</td>\n",
       "      <td>0.13280</td>\n",
       "      <td>0.1980</td>\n",
       "      <td>0.10430</td>\n",
       "      <td>0.1809</td>\n",
       "      <td>...</td>\n",
       "      <td>22.54</td>\n",
       "      <td>16.67</td>\n",
       "      <td>152.20</td>\n",
       "      <td>1575.0</td>\n",
       "      <td>0.1374</td>\n",
       "      <td>0.2050</td>\n",
       "      <td>0.4000</td>\n",
       "      <td>0.1625</td>\n",
       "      <td>0.2364</td>\n",
       "      <td>0.07678</td>\n",
       "    </tr>\n",
       "  </tbody>\n",
       "</table>\n",
       "<p>5 rows × 31 columns</p>\n",
       "</div>"
      ],
      "text/plain": [
       "  diagnosis  radius_mean  texture_mean  perimeter_mean  area_mean  \\\n",
       "0         M        17.99         10.38          122.80     1001.0   \n",
       "1         M        20.57         17.77          132.90     1326.0   \n",
       "2         M        19.69         21.25          130.00     1203.0   \n",
       "3         M        11.42         20.38           77.58      386.1   \n",
       "4         M        20.29         14.34          135.10     1297.0   \n",
       "\n",
       "   smoothness_mean  compactness_mean  concavity_mean  concave points_mean  \\\n",
       "0          0.11840           0.27760          0.3001              0.14710   \n",
       "1          0.08474           0.07864          0.0869              0.07017   \n",
       "2          0.10960           0.15990          0.1974              0.12790   \n",
       "3          0.14250           0.28390          0.2414              0.10520   \n",
       "4          0.10030           0.13280          0.1980              0.10430   \n",
       "\n",
       "   symmetry_mean           ...             radius_worst  texture_worst  \\\n",
       "0         0.2419           ...                    25.38          17.33   \n",
       "1         0.1812           ...                    24.99          23.41   \n",
       "2         0.2069           ...                    23.57          25.53   \n",
       "3         0.2597           ...                    14.91          26.50   \n",
       "4         0.1809           ...                    22.54          16.67   \n",
       "\n",
       "   perimeter_worst  area_worst  smoothness_worst  compactness_worst  \\\n",
       "0           184.60      2019.0            0.1622             0.6656   \n",
       "1           158.80      1956.0            0.1238             0.1866   \n",
       "2           152.50      1709.0            0.1444             0.4245   \n",
       "3            98.87       567.7            0.2098             0.8663   \n",
       "4           152.20      1575.0            0.1374             0.2050   \n",
       "\n",
       "   concavity_worst  concave points_worst  symmetry_worst  \\\n",
       "0           0.7119                0.2654          0.4601   \n",
       "1           0.2416                0.1860          0.2750   \n",
       "2           0.4504                0.2430          0.3613   \n",
       "3           0.6869                0.2575          0.6638   \n",
       "4           0.4000                0.1625          0.2364   \n",
       "\n",
       "   fractal_dimension_worst  \n",
       "0                  0.11890  \n",
       "1                  0.08902  \n",
       "2                  0.08758  \n",
       "3                  0.17300  \n",
       "4                  0.07678  \n",
       "\n",
       "[5 rows x 31 columns]"
      ]
     },
     "execution_count": 278,
     "metadata": {},
     "output_type": "execute_result"
    }
   ],
   "source": [
    "# load data set\n",
    "df = pd.read_csv(\"Wisconsin.csv\")\n",
    "\n",
    "# drop patient id from dataset\n",
    "df.drop('id', axis=1, inplace=True)\n",
    "df.head()"
   ]
  },
  {
   "cell_type": "code",
   "execution_count": 279,
   "metadata": {},
   "outputs": [
    {
     "data": {
      "text/plain": [
       "(569, 31)"
      ]
     },
     "execution_count": 279,
     "metadata": {},
     "output_type": "execute_result"
    }
   ],
   "source": [
    "df.shape"
   ]
  },
  {
   "cell_type": "code",
   "execution_count": 280,
   "metadata": {},
   "outputs": [
    {
     "data": {
      "text/plain": [
       "B    357\n",
       "M    212\n",
       "Name: diagnosis, dtype: int64"
      ]
     },
     "execution_count": 280,
     "metadata": {},
     "output_type": "execute_result"
    }
   ],
   "source": [
    "balance = df.diagnosis.value_counts()\n",
    "balance"
   ]
  },
  {
   "cell_type": "markdown",
   "metadata": {},
   "source": [
    "Data set is slightly imbalanced, majority of cells are benign."
   ]
  },
  {
   "cell_type": "code",
   "execution_count": 281,
   "metadata": {},
   "outputs": [
    {
     "data": {
      "text/plain": [
       "0.63"
      ]
     },
     "execution_count": 281,
     "metadata": {},
     "output_type": "execute_result"
    }
   ],
   "source": [
    "balance[0]/balance.sum()"
   ]
  },
  {
   "cell_type": "code",
   "execution_count": 308,
   "metadata": {},
   "outputs": [
    {
     "name": "stdout",
     "output_type": "stream",
     "text": [
      "[ 1.  1.  1.  1.  1.  1.  1.  1.]\n",
      "[[  1.80e+01   1.04e+01   1.23e+02   1.00e+03   1.18e-01]\n",
      " [  2.06e+01   1.78e+01   1.33e+02   1.33e+03   8.47e-02]\n",
      " [  1.97e+01   2.12e+01   1.30e+02   1.20e+03   1.10e-01]\n",
      " [  1.14e+01   2.04e+01   7.76e+01   3.86e+02   1.42e-01]\n",
      " [  2.03e+01   1.43e+01   1.35e+02   1.30e+03   1.00e-01]\n",
      " [  1.24e+01   1.57e+01   8.26e+01   4.77e+02   1.28e-01]\n",
      " [  1.82e+01   2.00e+01   1.20e+02   1.04e+03   9.46e-02]\n",
      " [  1.37e+01   2.08e+01   9.02e+01   5.78e+02   1.19e-01]]\n",
      "(569,) (569, 30)\n"
     ]
    }
   ],
   "source": [
    "# split into labels Y and instances X\n",
    "Y = df.values[:, 0]\n",
    "# 1 is positive => malign => patient has\n",
    "Y = np.array(list(1. if i=='M' else 0. for i in Y)).astype('float')\n",
    "X = df.values[:, 1:].astype('float64')\n",
    "%precision 2\n",
    "print(Y[0:8])\n",
    "print(X[0:8, :5])\n",
    "print(Y.shape, X.shape)"
   ]
  },
  {
   "cell_type": "code",
   "execution_count": 114,
   "metadata": {},
   "outputs": [
    {
     "data": {
      "text/plain": [
       "((424, 30), (424,))"
      ]
     },
     "execution_count": 114,
     "metadata": {},
     "output_type": "execute_result"
    }
   ],
   "source": [
    "# balanca data, might be useful later\n",
    "X_false = X[Y==0]\n",
    "X_true = X[Y==1]\n",
    "X_true.shape\n",
    "X_balanced = np.concatenate([X_false[0:212], X_true])\n",
    "Y_balanced = np.array(212*[0]+212*[1])\n",
    "\n",
    "X_balanced.shape, Y_balanced.shape"
   ]
  },
  {
   "cell_type": "markdown",
   "metadata": {},
   "source": [
    "## Exploratory Data Analysis"
   ]
  },
  {
   "cell_type": "markdown",
   "metadata": {},
   "source": [
    "# Should I normalise for PCA?"
   ]
  },
  {
   "cell_type": "code",
   "execution_count": 427,
   "metadata": {},
   "outputs": [],
   "source": [
    "from sklearn.preprocessing import StandardScaler\n",
    "\n",
    "scaler = StandardScaler()\n",
    "X_scaled = scaler.fit_transform(X)"
   ]
  },
  {
   "cell_type": "code",
   "execution_count": 443,
   "metadata": {},
   "outputs": [
    {
     "data": {
      "text/plain": [
       "<matplotlib.legend.Legend at 0x118a80240>"
      ]
     },
     "execution_count": 443,
     "metadata": {},
     "output_type": "execute_result"
    },
    {
     "data": {
      "image/png": "[encoded data removed]",
      "text/plain": [
       "<matplotlib.figure.Figure at 0x115b855f8>"
      ]
     },
     "metadata": {},
     "output_type": "display_data"
    }
   ],
   "source": [
    "# http://scikit-learn.org/stable/auto_examples/decomposition/plot_pca_vs_lda.html\n",
    "from sklearn.decomposition import PCA\n",
    "\n",
    "labels = ['B', 'M']\n",
    "pca = PCA(n_components=10).fit(X)\n",
    "Xp = pca.transform(X)\n",
    "\n",
    "plt.figure(figsize=(8,4))\n",
    "for k in range(1,3):\n",
    "    plt.subplot(1,2,k)\n",
    "    for i, label in enumerate(labels):\n",
    "        plt.scatter(Xp[Y==i, 0], Xp[Y == i, 1], alpha=.5,\n",
    "                    label=label)\n",
    "    if k == 2:\n",
    "        plt.xlim(-1000,550)\n",
    "        plt.ylim(-200, 200)\n",
    "plt.tight_layout()\n",
    "\n",
    "plt.legend()"
   ]
  },
  {
   "cell_type": "code",
   "execution_count": 444,
   "metadata": {},
   "outputs": [
    {
     "data": {
      "text/plain": [
       "array([  4.44e+05,   7.31e+03,   7.04e+02,   5.46e+01])"
      ]
     },
     "execution_count": 444,
     "metadata": {},
     "output_type": "execute_result"
    },
    {
     "data": {
      "image/png": "[encoded data removed]",
      "text/plain": [
       "<matplotlib.figure.Figure at 0x118975588>"
      ]
     },
     "metadata": {},
     "output_type": "display_data"
    }
   ],
   "source": [
    "plt.plot(pca.explained_variance_)\n",
    "pca.explained_variance_[0:4]"
   ]
  },
  {
   "cell_type": "code",
   "execution_count": 445,
   "metadata": {},
   "outputs": [
    {
     "data": {
      "text/plain": [
       "array([23,  3, 13, 22,  2, 20,  0, 21, 12,  1])"
      ]
     },
     "execution_count": 445,
     "metadata": {},
     "output_type": "execute_result"
    },
    {
     "data": {
      "image/png": "[encoded data removed]",
      "text/plain": [
       "<matplotlib.figure.Figure at 0x118af3748>"
      ]
     },
     "metadata": {},
     "output_type": "display_data"
    }
   ],
   "source": [
    "max_vec = pca.components_[0,:] \n",
    "plt.plot(max_vec)\n",
    "max_props = np.argsort(max_vec)[::-1][0:10]\n",
    "max_props"
   ]
  },
  {
   "cell_type": "code",
   "execution_count": 446,
   "metadata": {},
   "outputs": [
    {
     "data": {
      "image/png": "[encoded data removed]",
      "text/plain": [
       "<matplotlib.figure.Figure at 0x113de5908>"
      ]
     },
     "metadata": {},
     "output_type": "display_data"
    }
   ],
   "source": [
    "for i, label in enumerate(labels):\n",
    "    plt.scatter(X[Y==i, max_props[0]], Xp[Y == i, max_props[1]], alpha=.5,\n",
    "                label=label)"
   ]
  },
  {
   "cell_type": "code",
   "execution_count": 442,
   "metadata": {},
   "outputs": [
    {
     "data": {
      "text/plain": [
       "['concavity_mean',\n",
       " 'compactness_mean',\n",
       " 'concavity_worst',\n",
       " 'smoothness_mean',\n",
       " 'texture_worst',\n",
       " 'compactness_worst',\n",
       " 'fractal_dimension_se',\n",
       " 'texture_mean',\n",
       " 'perimeter_worst',\n",
       " 'perimeter_mean']"
      ]
     },
     "execution_count": 442,
     "metadata": {},
     "output_type": "execute_result"
    }
   ],
   "source": [
    "[list(df)[prop] for prop in max_props]"
   ]
  },
  {
   "cell_type": "code",
   "execution_count": 420,
   "metadata": {},
   "outputs": [
    {
     "data": {
      "text/plain": [
       "[23, 3, 13]"
      ]
     },
     "execution_count": 420,
     "metadata": {},
     "output_type": "execute_result"
    }
   ],
   "source": [
    "list(max_props)"
   ]
  },
  {
   "cell_type": "code",
   "execution_count": null,
   "metadata": {},
   "outputs": [],
   "source": [
    "# critique the original paper\n",
    "# we were lead to believe that a lot more stuff was important"
   ]
  },
  {
   "cell_type": "markdown",
   "metadata": {},
   "source": [
    "## Nearest Neighbor Classifier"
   ]
  },
  {
   "cell_type": "code",
   "execution_count": 122,
   "metadata": {},
   "outputs": [],
   "source": [
    "from sklearn import datasets, neighbors, svm, preprocessing\n",
    "from sklearn.model_selection import cross_validate, KFold\n",
    "from sklearn.pipeline import make_pipeline"
   ]
  },
  {
   "cell_type": "code",
   "execution_count": 123,
   "metadata": {},
   "outputs": [],
   "source": [
    "# 10 fold cross validation\n",
    "# see http://scikit-learn.org/stable/modules/cross_validation.html\n",
    "# and http://scikit-learn.org/stable/modules/model_evaluation.html\n",
    "def cross_validate_with_statistics(classifier, X, Y):\n",
    "\n",
    "    score_list = ['f1', 'precision', 'recall', 'accuracy']\n",
    "    scores = cross_validate(classifier, X, Y, \n",
    "                            cv=KFold(10, shuffle=True, random_state=42), \n",
    "                            scoring=score_list, return_train_score=True,\n",
    "                            )\n",
    "    \n",
    "    # get mean and std of \n",
    "    means = {s:np.mean(scores[s]) for s in scores}\n",
    "    stds = {s:np.std(scores[s]) for s in scores}\n",
    "\n",
    "    return means, stds"
   ]
  },
  {
   "cell_type": "code",
   "execution_count": 224,
   "metadata": {
    "scrolled": true
   },
   "outputs": [
    {
     "data": {
      "text/plain": [
       "({'fit_time': 0.00,\n",
       "  'score_time': 0.00,\n",
       "  'test_accuracy': 0.94,\n",
       "  'test_f1': 0.94,\n",
       "  'test_precision': 0.94,\n",
       "  'test_recall': 0.94,\n",
       "  'train_accuracy': 1.00,\n",
       "  'train_f1': 1.00,\n",
       "  'train_precision': 1.00,\n",
       "  'train_recall': 1.00},\n",
       " {'fit_time': 0.00,\n",
       "  'score_time': 0.00,\n",
       "  'test_accuracy': 0.03,\n",
       "  'test_f1': 0.03,\n",
       "  'test_precision': 0.05,\n",
       "  'test_recall': 0.06,\n",
       "  'train_accuracy': 0.00,\n",
       "  'train_f1': 0.00,\n",
       "  'train_precision': 0.00,\n",
       "  'train_recall': 0.00})"
      ]
     },
     "execution_count": 224,
     "metadata": {},
     "output_type": "execute_result"
    }
   ],
   "source": [
    "def nearest_neighbor(X, Y):\n",
    "    # instantiate nearest neighbor classifier\n",
    "    nn = neighbors.KNeighborsClassifier(n_neighbors=1, algorithm='brute')\n",
    "    # standardise data to 0 mean and 1 variance\n",
    "    nn = make_pipeline(preprocessing.StandardScaler(), nn)\n",
    "    nn_means, nn_stds = cross_validate_with_statistics(nn, X, Y)\n",
    "\n",
    "    return nn_means, nn_stds\n",
    "\n",
    "nearest_neighbor(X_balanced, Y_balanced)"
   ]
  },
  {
   "cell_type": "markdown",
   "metadata": {
    "collapsed": true
   },
   "source": [
    "As always with NN, training error is 0."
   ]
  },
  {
   "cell_type": "code",
   "execution_count": 291,
   "metadata": {},
   "outputs": [],
   "source": [
    "# now do k nearest neighbour\n",
    "def k_nearest_neighbor(X, Y, ks):\n",
    "    \n",
    "    # for each k, [accuracy, precision, and recall] as mean and std\n",
    "    scores_knn = np.zeros((len(ks), 3, 2))\n",
    "    for i, k in enumerate(ks):\n",
    "        # instantiate nearest neighbor classifier\n",
    "        knn = neighbors.KNeighborsClassifier(n_neighbors=k, algorithm='brute',\n",
    "                                            metric='euclidean',\n",
    "                                            weights='uniform')\n",
    "        # standardise data to 0 mean and 1 variance\n",
    "        knn = make_pipeline(preprocessing.StandardScaler(), knn)\n",
    "        means_knn, stds_knn = cross_validate_with_statistics(knn, X, Y)\n",
    "\n",
    "        scores_knn[i, 0, 0] = means_knn['test_accuracy']\n",
    "        scores_knn[i, 1, 0] = means_knn['test_precision']\n",
    "        scores_knn[i, 2, 0] = means_knn['test_recall'] \n",
    "\n",
    "        scores_knn[i, 0, 1] = stds_knn['test_accuracy']\n",
    "        scores_knn[i, 1, 1] = stds_knn['test_precision']\n",
    "        scores_knn[i, 2, 1] = stds_knn['test_recall']\n",
    "    \n",
    "    return scores_knn\n",
    "\n",
    "ks = list(range(1,10+1)) + [20, 40, 50, 100, 150, 200, 250, 300, 350]\n",
    "knn_res = k_nearest_neighbor(X, Y, ks)"
   ]
  },
  {
   "cell_type": "code",
   "execution_count": 292,
   "metadata": {},
   "outputs": [
    {
     "data": {
      "text/plain": [
       "array([[ 0.95,  0.93,  0.91],\n",
       "       [ 0.95,  0.99,  0.88],\n",
       "       [ 0.96,  0.98,  0.91],\n",
       "       [ 0.96,  0.99,  0.9 ],\n",
       "       [ 0.96,  0.98,  0.92],\n",
       "       [ 0.96,  0.99,  0.91],\n",
       "       [ 0.96,  0.98,  0.92],\n",
       "       [ 0.96,  0.99,  0.91],\n",
       "       [ 0.97,  0.99,  0.93],\n",
       "       [ 0.97,  0.99,  0.93],\n",
       "       [ 0.95,  0.99,  0.89],\n",
       "       [ 0.95,  0.99,  0.87],\n",
       "       [ 0.95,  0.99,  0.87],\n",
       "       [ 0.93,  0.98,  0.83],\n",
       "       [ 0.91,  0.98,  0.78],\n",
       "       [ 0.9 ,  0.99,  0.74],\n",
       "       [ 0.86,  0.98,  0.63],\n",
       "       [ 0.82,  1.  ,  0.52],\n",
       "       [ 0.72,  1.  ,  0.27]])"
      ]
     },
     "execution_count": 292,
     "metadata": {},
     "output_type": "execute_result"
    }
   ],
   "source": [
    "knn_res[:,:,0]"
   ]
  },
  {
   "cell_type": "code",
   "execution_count": 293,
   "metadata": {},
   "outputs": [],
   "source": [
    "# I checked that balancing does not really yield a difference\n",
    "# k_nearest_neighbor(X_balanced, Y_balanced)[:,:,0]"
   ]
  },
  {
   "cell_type": "code",
   "execution_count": 294,
   "metadata": {},
   "outputs": [],
   "source": [
    "# high precision value = there are no false positives. when algorithm says an instance is positive, it is\n",
    "# low recall value = not all positives are found."
   ]
  },
  {
   "cell_type": "code",
   "execution_count": 295,
   "metadata": {},
   "outputs": [
    {
     "data": {
      "image/png": "[encoded data removed]",
      "text/plain": [
       "<matplotlib.figure.Figure at 0x115600eb8>"
      ]
     },
     "metadata": {},
     "output_type": "display_data"
    }
   ],
   "source": [
    "from matplotlib.ticker import FormatStrFormatter\n",
    "# precision recall plot\n",
    "# recall\n",
    "xpl = knn_res[:,1,0]\n",
    "# precision\n",
    "ypl = knn_res[:,2,0]\n",
    "\n",
    "xerr = knn_res[:,1,1]\n",
    "yerr = knn_res[:,2,1]\n",
    "\n",
    "fig, ax = plt.subplots()\n",
    "ax.yaxis.set_major_formatter(FormatStrFormatter('%.2f'))\n",
    "\n",
    "plt.errorbar(xpl, ypl, yerr, xerr, fmt='none', alpha=0.3, elinewidth=0.5)\n",
    "\n",
    "plt.scatter(xpl, ypl, c=ks, label='k-NN')\n",
    "plt.colorbar(format=FormatStrFormatter('%i'), label='$k$')\n",
    "\n",
    "plt.plot([0,0.9999,1],[1,1,0], label='ideal', c='gray', alpha=0.8, linewidth=0.5)\n",
    "\n",
    "plt.annotate(r\"$k={}$\".format(ks[0]), (xpl[0]-0.005, ypl[0]+0.02))\n",
    "plt.annotate(r\"$k={}$\".format(ks[-1]), (xpl[-1]-0.008, ypl[-1]+0.03))\n",
    "\n",
    "# this line always needs to be updated depending on which N is used!\n",
    "plt.plot([0,1], 2*[balance[1]/balance.sum()], label='guessing', alpha=0.4)\n",
    "\n",
    "plt.xlabel('Precision')\n",
    "plt.ylabel('Recall')\n",
    "plt.xlim(0.9, 1.01)\n",
    "plt.ylim(0.2, 1.05)\n",
    "plt.tight_layout()"
   ]
  },
  {
   "cell_type": "code",
   "execution_count": 296,
   "metadata": {},
   "outputs": [
    {
     "data": {
      "text/plain": [
       "0.37"
      ]
     },
     "execution_count": 296,
     "metadata": {},
     "output_type": "execute_result"
    }
   ],
   "source": [
    "balance[1]/balance.sum()"
   ]
  },
  {
   "cell_type": "code",
   "execution_count": 274,
   "metadata": {},
   "outputs": [],
   "source": [
    "# very stable here even as we go to high k values\n",
    "# usually might expect more sharply peaked behaviour\n",
    "# hoewever of course breaks down for unreasonable k values\n",
    "# emphasize that we absolutely know that these are unreasonable values\n",
    "# just to show that it *is* working, show how it breaks down\n",
    "# original knn just calls for a majority vote, can weigh this by\n",
    "# distance and then performance still becomes worse as k grows\n",
    "# however much less so!\n",
    "# nearest neighbour really not ideal, pca shows, that\n",
    "# dimension reduction of the data is very well possible\n",
    "# could have been used as preprocessing to algorithms"
   ]
  },
  {
   "cell_type": "code",
   "execution_count": null,
   "metadata": {},
   "outputs": [],
   "source": []
  }
 ],
 "metadata": {
  "kernelspec": {
   "display_name": "Python 3",
   "language": "python",
   "name": "python3"
  },
  "language_info": {
   "codemirror_mode": {
    "name": "ipython",
    "version": 3
   },
   "file_extension": ".py",
   "mimetype": "text/x-python",
   "name": "python",
   "nbconvert_exporter": "python",
   "pygments_lexer": "ipython3",
   "version": "3.6.3"
  }
 },
 "nbformat": 4,
 "nbformat_minor": 2
}
